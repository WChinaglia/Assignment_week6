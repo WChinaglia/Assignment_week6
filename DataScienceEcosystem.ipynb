{
 "cells": [
  {
   "cell_type": "markdown",
   "id": "ff3a8fa0",
   "metadata": {},
   "source": [
    "# Data Science Tools and Ecosystem"
   ]
  },
  {
   "cell_type": "markdown",
   "id": "987fde87",
   "metadata": {},
   "source": [
    "This is the week 6 Final Assignment notebook"
   ]
  },
  {
   "cell_type": "markdown",
   "id": "3c07de4d",
   "metadata": {},
   "source": [
    "**Objectives:**\n",
    " - Create an ordered list (numbered);\n",
    " - List libraries commonly used by Data Scientists;\n",
    " - Edit text in a markdown cell; "
   ]
  },
  {
   "cell_type": "markdown",
   "id": "f18957c9",
   "metadata": {},
   "source": [
    "Popular languages that Data Scientists use includes:\n",
    "1. Python\n",
    "2. R\n",
    "3. Java\n",
    "4. Julia"
   ]
  },
  {
   "cell_type": "markdown",
   "id": "f16e52e6",
   "metadata": {},
   "source": [
    "Preferred libraries used by Data Scientists are:\n",
    "1. Pandas\n",
    "2. NumPy\n",
    "3. Matplotlib"
   ]
  },
  {
   "cell_type": "markdown",
   "id": "8f56fc10",
   "metadata": {},
   "source": [
    "| Data Science Tools |\n",
    "|---|\n",
    "| R Studio |\n",
    "| GitHub |\n",
    "| Jupyter Notebook |"
   ]
  },
  {
   "cell_type": "markdown",
   "id": "e3c7b3d7",
   "metadata": {},
   "source": [
    "### Examples of how to evaluate arithmetic expressions in Python:"
   ]
  },
  {
   "cell_type": "code",
   "execution_count": 3,
   "id": "b5e5b4a5",
   "metadata": {},
   "outputs": [
    {
     "data": {
      "text/plain": [
       "17"
      ]
     },
     "execution_count": 3,
     "metadata": {},
     "output_type": "execute_result"
    }
   ],
   "source": [
    "# This arithmetic expression multiplies then adds integers:\n",
    "(3 * 4) + 5"
   ]
  },
  {
   "cell_type": "code",
   "execution_count": 4,
   "id": "b8538898",
   "metadata": {},
   "outputs": [
    {
     "data": {
      "text/plain": [
       "3.3333333333333335"
      ]
     },
     "execution_count": 4,
     "metadata": {},
     "output_type": "execute_result"
    }
   ],
   "source": [
    "# Converting 200 minutes into hours:\n",
    "200 / 60"
   ]
  },
  {
   "cell_type": "markdown",
   "id": "6f313954",
   "metadata": {},
   "source": [
    "## Author\n",
    "Wildson Chinaglia"
   ]
  },
  {
   "cell_type": "code",
   "execution_count": null,
   "id": "918b6296",
   "metadata": {},
   "outputs": [],
   "source": []
  }
 ],
 "metadata": {
  "kernelspec": {
   "display_name": "Python 3 (ipykernel)",
   "language": "python",
   "name": "python3"
  },
  "language_info": {
   "codemirror_mode": {
    "name": "ipython",
    "version": 3
   },
   "file_extension": ".py",
   "mimetype": "text/x-python",
   "name": "python",
   "nbconvert_exporter": "python",
   "pygments_lexer": "ipython3",
   "version": "3.11.5"
  }
 },
 "nbformat": 4,
 "nbformat_minor": 5
}
